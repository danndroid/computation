{
 "cells": [
  {
   "cell_type": "code",
   "execution_count": 1,
   "id": "03dc082d-9952-4bef-b25a-0681f26888eb",
   "metadata": {},
   "outputs": [],
   "source": [
    "%load_ext autoreload\n",
    "%autoreload 2\n",
    "from lex import *"
   ]
  },
  {
   "cell_type": "code",
   "execution_count": 14,
   "id": "2f61e68e-7803-4cb5-af6c-743a1fa08e9c",
   "metadata": {},
   "outputs": [],
   "source": [
    "input = \"LET foobar = 123\"\n",
    "lexer = Lexer(input)"
   ]
  },
  {
   "cell_type": "code",
   "execution_count": 15,
   "id": "83b56586-25fa-46ae-83a3-6b5163a6a6a3",
   "metadata": {},
   "outputs": [
    {
     "data": {
      "text/plain": [
       "'LET foobar = 123\\n'"
      ]
     },
     "execution_count": 15,
     "metadata": {},
     "output_type": "execute_result"
    }
   ],
   "source": [
    "lexer.source"
   ]
  },
  {
   "cell_type": "code",
   "execution_count": 16,
   "id": "3af3609c-39bc-4da2-9a77-22632e25785e",
   "metadata": {},
   "outputs": [
    {
     "data": {
      "text/plain": [
       "'L'"
      ]
     },
     "execution_count": 16,
     "metadata": {},
     "output_type": "execute_result"
    }
   ],
   "source": [
    "lexer.curChar"
   ]
  },
  {
   "cell_type": "code",
   "execution_count": 17,
   "id": "98f67b3d-6338-433a-9d8c-6d2b0e52151c",
   "metadata": {},
   "outputs": [
    {
     "data": {
      "text/plain": [
       "0"
      ]
     },
     "execution_count": 17,
     "metadata": {},
     "output_type": "execute_result"
    }
   ],
   "source": [
    "lexer.curPos"
   ]
  },
  {
   "cell_type": "code",
   "execution_count": 18,
   "id": "966f345c-734b-4f07-a445-0b9ffc2c7756",
   "metadata": {},
   "outputs": [
    {
     "data": {
      "text/plain": [
       "'E'"
      ]
     },
     "execution_count": 18,
     "metadata": {},
     "output_type": "execute_result"
    }
   ],
   "source": [
    "lexer.peek()"
   ]
  },
  {
   "cell_type": "code",
   "execution_count": 19,
   "id": "046e3d74-b94c-47ac-9f51-3173ed7fa842",
   "metadata": {},
   "outputs": [],
   "source": [
    "lexer.nextChar()"
   ]
  },
  {
   "cell_type": "code",
   "execution_count": null,
   "id": "b2d8f751-ef8b-455e-ab48-8c9b520220dc",
   "metadata": {},
   "outputs": [],
   "source": []
  },
  {
   "cell_type": "code",
   "execution_count": 20,
   "id": "8c425963-6100-4ca9-99e4-cc62695b32ff",
   "metadata": {},
   "outputs": [
    {
     "name": "stdout",
     "output_type": "stream",
     "text": [
      "L\n",
      "E\n",
      "T\n",
      " \n",
      "f\n",
      "o\n",
      "o\n",
      "b\n",
      "a\n",
      "r\n",
      " \n",
      "=\n",
      " \n",
      "1\n",
      "2\n",
      "3\n"
     ]
    }
   ],
   "source": [
    "def main():\n",
    "    input = \"LET foobar = 123\"\n",
    "    lexer = Lexer(input)\n",
    "\n",
    "    while lexer.peek() != '\\0':\n",
    "        print(lexer.curChar)\n",
    "        lexer.nextChar()\n",
    "\n",
    "main()"
   ]
  },
  {
   "cell_type": "code",
   "execution_count": null,
   "id": "345479fa-80f9-4e7b-923a-7c95ab307fc0",
   "metadata": {},
   "outputs": [],
   "source": []
  }
 ],
 "metadata": {
  "kernelspec": {
   "display_name": "Python 3",
   "language": "python",
   "name": "python3"
  },
  "language_info": {
   "codemirror_mode": {
    "name": "ipython",
    "version": 3
   },
   "file_extension": ".py",
   "mimetype": "text/x-python",
   "name": "python",
   "nbconvert_exporter": "python",
   "pygments_lexer": "ipython3",
   "version": "3.9.0"
  }
 },
 "nbformat": 4,
 "nbformat_minor": 5
}
